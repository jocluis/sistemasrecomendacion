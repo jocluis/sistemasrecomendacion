{
  "nbformat": 4,
  "nbformat_minor": 0,
  "metadata": {
    "colab": {
      "provenance": [],
      "machine_shape": "hm",
      "include_colab_link": true
    },
    "kernelspec": {
      "name": "python3",
      "display_name": "Python 3"
    },
    "language_info": {
      "name": "python"
    }
  },
  "cells": [
    {
      "cell_type": "markdown",
      "metadata": {
        "id": "view-in-github",
        "colab_type": "text"
      },
      "source": [
        "<a href=\"https://colab.research.google.com/github/jocluis/sistemasrecomendacion/blob/main/SVD_Recommender/MovieLens_SVD.ipynb\" target=\"_parent\"><img src=\"https://colab.research.google.com/assets/colab-badge.svg\" alt=\"Open In Colab\"/></a>"
      ]
    },
    {
      "cell_type": "markdown",
      "source": [
        "\n",
        "<h1 align=center><font size = 5> SVD Recommender</font></h1>\n",
        "\n",
        "---"
      ],
      "metadata": {
        "id": "xojo8Uolpezq"
      }
    },
    {
      "cell_type": "markdown",
      "source": [
        "<center>\n",
        "  <img src=\"https://bobliu.io/assets/img/cards.509a5045.jpg\" width=\"800\" height=\"300\">\n",
        "</center>\n"
      ],
      "metadata": {
        "id": "N8k0D4hUpQtd"
      }
    },
    {
      "cell_type": "markdown",
      "source": [
        "## Objetivo de este Notebook\n",
        "\n",
        "1. Cargar y preprocesar un Dataset.\n",
        "2. Realizar un sistema de recomendación basado en SVD.\n",
        "3. Comprobar el performance del sistema."
      ],
      "metadata": {
        "id": "8FbV_eL8qMhx"
      }
    },
    {
      "cell_type": "markdown",
      "source": [
        "## Tabla de Contenidos\n",
        "\n",
        "<div class=\"alert alert-block alert-info\" style=\"margin-top: 20px\">\n",
        "\n",
        "<font size = 3>\n",
        "    \n",
        "1. <a href=\"#item31\">Contexto</a>  \n",
        "2. <a href=\"#item32\">Descargar y preparar el Dataset</a>  \n",
        "6. <a href=\"#item34\">Entrenamiento del modelo</a>  \n",
        "6. <a href=\"#item34\">Validación del modelo</a>  \n",
        "\n",
        "</font>\n",
        "</div>"
      ],
      "metadata": {
        "id": "fwc_GHBnvBdo"
      }
    },
    {
      "cell_type": "markdown",
      "source": [
        "## 1. Contexto"
      ],
      "metadata": {
        "id": "1ClPvzs6qk8D"
      }
    },
    {
      "cell_type": "markdown",
      "source": [
        "\n",
        "El conjunto de datos MovieLens es uno de los conjuntos de datos de recomendación más populares y ampliamente utilizados en la investigación de sistemas de recomendación. Fue creado por el GroupLens Research Project en la Universidad de Minnesota para impulsar la investigación en sistemas de recomendación, proporcionando un recurso valioso para la comunidad académica y promoviendo el desarrollo y la comprensión de tecnologías de recomendación personalizada.\n"
      ],
      "metadata": {
        "id": "wOY_1u5Bq6Kz"
      }
    },
    {
      "cell_type": "markdown",
      "source": [
        "<b>Descripción de datos</b>\n",
        "\n",
        "El conjunto de datos MovieLens contiene información sobre:\n",
        "\n",
        "<b>Películas:</b> Detalles sobre las películas, incluyendo su título, género y año de lanzamiento.\n",
        "\n",
        "<b>Usuarios:</b> Perfiles de los usuarios que han calificado y/o etiquetado las películas, incluyendo su ID y otros detalles demográficos opcionales.\n",
        "\n",
        "<b>Calificaciones:</b> Calificaciones numéricas que los usuarios asignan a las películas en una escala de 1 a 5.\n",
        "\n",
        "<b>Etiquetas:</b> Palabras clave o tags proporcionados por los usuarios para describir el contenido o la esencia de las películas.\n",
        "\n",
        "El conjunto de datos es ampliamente utilizado con fines académicos y de investigación, siendo una referencia en el diseño y evaluación de sistemas de recomendación de películas. También es útil para el análisis de tendencias y comportamientos en la visualización de películas y la interacción del usuario con el contenido.\n",
        "\n",
        "<strong>Puede consultar este [link](https://grouplens.org/datasets/movielens/) para leer más sobre la fuente de datos MovieLens proporcionada por GroupLens Research en la Universidad de Minnesota.</strong>"
      ],
      "metadata": {
        "id": "uiYshhXFrHiC"
      }
    },
    {
      "cell_type": "markdown",
      "source": [
        "## 2. Descargar y preparar Dataset"
      ],
      "metadata": {
        "id": "6XVvIx3sr_Q0"
      }
    },
    {
      "cell_type": "code",
      "source": [
        "# Descargar el dataset Movielens\n",
        "!curl -o dataset.zip \"https://files.grouplens.org/datasets/movielens/ml-latest-small.zip\"\n",
        "!unzip dataset.zip\n",
        "!ls -la"
      ],
      "metadata": {
        "id": "rsPg7ZwxfHE4"
      },
      "execution_count": null,
      "outputs": []
    },
    {
      "cell_type": "code",
      "execution_count": null,
      "metadata": {
        "id": "sPs_w8bcU1bm"
      },
      "outputs": [],
      "source": [
        "# Principales librerías\n",
        "import pandas as pd\n",
        "import numpy as np\n",
        "\n",
        "import seaborn as sns\n",
        "import matplotlib.pyplot as plt\n",
        "\n",
        "import warnings\n",
        "warnings.filterwarnings(\"ignore\") # Turn off warnings\n"
      ]
    },
    {
      "cell_type": "code",
      "source": [
        "links   = pd.read_csv(\"ml-latest-small/links.csv\")\n",
        "movies  = pd.read_csv(\"ml-latest-small/movies.csv\")\n",
        "ratings = pd.read_csv(\"ml-latest-small/ratings.csv\")\n",
        "tags    = pd.read_csv(\"ml-latest-small/tags.csv\")\n"
      ],
      "metadata": {
        "id": "w0HCRfqUXp9J"
      },
      "execution_count": null,
      "outputs": []
    },
    {
      "cell_type": "code",
      "source": [
        "links.head()"
      ],
      "metadata": {
        "id": "ofXHH-qra7xZ"
      },
      "execution_count": null,
      "outputs": []
    },
    {
      "cell_type": "code",
      "source": [
        "movies.head()"
      ],
      "metadata": {
        "id": "oV10YeKpbCJ2"
      },
      "execution_count": null,
      "outputs": []
    },
    {
      "cell_type": "code",
      "source": [
        "ratings.head()"
      ],
      "metadata": {
        "id": "HwBd4qRTbLrq"
      },
      "execution_count": null,
      "outputs": []
    },
    {
      "cell_type": "code",
      "source": [
        "tags.head()"
      ],
      "metadata": {
        "id": "qWbXjVaHCZlG"
      },
      "execution_count": null,
      "outputs": []
    },
    {
      "cell_type": "code",
      "source": [
        "print(\"  Movies: {} \\n  Ratings: {}\".format(len(movies), len(ratings)))\n"
      ],
      "metadata": {
        "id": "otyfiUUlbRhj"
      },
      "execution_count": null,
      "outputs": []
    },
    {
      "cell_type": "code",
      "source": [
        "# Fusiona ambos datasets basados en la columna 'movieId'\n",
        "data = pd.merge(ratings, movies, on='movieId')"
      ],
      "metadata": {
        "id": "aC0ZwEh8XE7L"
      },
      "execution_count": null,
      "outputs": []
    },
    {
      "cell_type": "code",
      "source": [
        "movie_titles = data['title'].unique().tolist()\n",
        "movie_ids = data['movieId'].unique().tolist()\n"
      ],
      "metadata": {
        "id": "XYIdWvr7alE8"
      },
      "execution_count": null,
      "outputs": []
    },
    {
      "cell_type": "code",
      "source": [
        "# Crear matriz pivotada de usuarios y películas\n",
        "user_movie_rating = data.pivot_table(index='userId', columns='title', values='rating')\n"
      ],
      "metadata": {
        "id": "g8Iium9Mbf9P"
      },
      "execution_count": null,
      "outputs": []
    },
    {
      "cell_type": "code",
      "source": [
        "#500 películas más vistas\n",
        "movies_pop = user_movie_rating.isnull().sum().sort_values()[:500]\n"
      ],
      "metadata": {
        "id": "L3I-6xpQ7C0g"
      },
      "execution_count": null,
      "outputs": []
    },
    {
      "cell_type": "code",
      "source": [
        "user_movie_rating = user_movie_rating[movies_pop.index.tolist()]"
      ],
      "metadata": {
        "id": "6zQDpndy7iAX"
      },
      "execution_count": null,
      "outputs": []
    },
    {
      "cell_type": "code",
      "source": [
        "user_movie_rating = user_movie_rating.reset_index()"
      ],
      "metadata": {
        "id": "oPAab9Ci_ytU"
      },
      "execution_count": null,
      "outputs": []
    },
    {
      "cell_type": "markdown",
      "source": [
        "Muestreo (Enmascaramiento)"
      ],
      "metadata": {
        "id": "GgE27Nguqv-_"
      }
    },
    {
      "cell_type": "code",
      "source": [
        "user_movie_rating"
      ],
      "metadata": {
        "id": "n5uFkXE9_urd"
      },
      "execution_count": null,
      "outputs": []
    },
    {
      "cell_type": "code",
      "source": [
        "from sklearn.model_selection import train_test_split\n",
        "\n",
        "# Convertir la matriz pivotada en un DataFrame y dividir en train y test\n",
        "train_data, test_data = train_test_split(data, test_size=0.2, random_state=42)\n"
      ],
      "metadata": {
        "id": "HBKbEjiYTh8l"
      },
      "execution_count": null,
      "outputs": []
    },
    {
      "cell_type": "code",
      "source": [
        "train_data_matrix = train_data.pivot_table(index='userId', columns='title', values='rating')\n",
        "test_data_matrix = test_data.pivot_table(index='userId', columns='title', values='rating')\n",
        "\n",
        "train_data_matrix = train_data_matrix[movies_pop.index.tolist()].reset_index()\n",
        "test_data_matrix = test_data_matrix[movies_pop.index.tolist()].reset_index()"
      ],
      "metadata": {
        "id": "aV684rM8DVmz"
      },
      "execution_count": null,
      "outputs": []
    },
    {
      "cell_type": "code",
      "source": [
        "# Volver a crear matrices pivotadas para entrenamiento y prueba\n",
        "train_data_matrix = train_data_matrix.fillna(0)\n",
        "test_data_matrix = test_data_matrix.fillna(0)"
      ],
      "metadata": {
        "id": "RDijWNyaX1sB"
      },
      "execution_count": null,
      "outputs": []
    },
    {
      "cell_type": "code",
      "source": [
        "test_data_matrix.head()"
      ],
      "metadata": {
        "id": "IWmKyU4v-Pwu"
      },
      "execution_count": null,
      "outputs": []
    },
    {
      "cell_type": "markdown",
      "source": [
        "## 3. SVD (Singular Value Decomposition)"
      ],
      "metadata": {
        "id": "GHkA_WGRq7KO"
      }
    },
    {
      "cell_type": "markdown",
      "source": [
        "Aplicaremos el enfoque model based basado en SVD"
      ],
      "metadata": {
        "id": "8xftMLpaFLJ4"
      }
    },
    {
      "cell_type": "code",
      "source": [
        "from numpy.linalg import svd\n",
        "\n",
        "# Descomponemos la matriz de entrenamiento usando SVD\n",
        "U, sigma_values, Vt = svd(train_data_matrix.drop(columns = ['userId']), full_matrices=False)\n",
        "\n",
        "# La matriz sigma devuelta es solo una lista de valores singulares. La convertimos a una matriz diagonal.\n",
        "sigma = np.diag(sigma_values)\n"
      ],
      "metadata": {
        "id": "yproYXMtNOeP"
      },
      "execution_count": null,
      "outputs": []
    },
    {
      "cell_type": "code",
      "source": [
        "# Predicciones con el modelo\n",
        "predicted_ratings = np.dot(np.dot(U, sigma), Vt)\n"
      ],
      "metadata": {
        "id": "B-eKGnyu4c1M"
      },
      "execution_count": null,
      "outputs": []
    },
    {
      "cell_type": "code",
      "source": [
        "predicted_ratings_df = pd.DataFrame(predicted_ratings, columns=train_data_matrix.drop(columns = ['userId']).columns, index=train_data_matrix.index)\n",
        "predicted_ratings_df['userId'] = train_data_matrix['userId']\n",
        "predicted_ratings_df.head()\n"
      ],
      "metadata": {
        "id": "9QZvNZOs7NjJ"
      },
      "execution_count": null,
      "outputs": []
    },
    {
      "cell_type": "markdown",
      "source": [
        "Predicciones"
      ],
      "metadata": {
        "id": "_GR2XOcf7FST"
      }
    },
    {
      "cell_type": "code",
      "source": [
        "# Seleccionar un usuario (por ejemplo, el usuario con ID 82)\n",
        "user_idx = 72\n",
        "user_predictions = predicted_ratings_df[predicted_ratings_df.userId == user_idx]"
      ],
      "metadata": {
        "id": "_J6CrYgrcsm9"
      },
      "execution_count": null,
      "outputs": []
    },
    {
      "cell_type": "code",
      "source": [
        "# Peliculas calificadas por el cliente\n",
        "\n",
        "rated_movies_by_user = train_data_matrix[train_data_matrix.userId == user_idx]\n",
        "already_rated = rated_movies_by_user[rated_movies_by_user > 0].index.tolist()"
      ],
      "metadata": {
        "id": "03d10M-kD3EC"
      },
      "execution_count": null,
      "outputs": []
    },
    {
      "cell_type": "code",
      "source": [
        "pddf_rated_movies_by_user = rated_movies_by_user.T.reset_index()\n",
        "pddf_rated_movies_by_user.columns = ['title', 'rating']\n",
        "pddf_rated_movies_by_user = pddf_rated_movies_by_user[pddf_rated_movies_by_user.rating.between(1, 5)]\n",
        "pddf_rated_movies_by_user.sort_values(by = 'rating', ascending = False, inplace = True)\n",
        "already_rated = pddf_rated_movies_by_user.title.tolist()\n",
        "\n",
        "pddf_rated_movies_by_user.head(10)"
      ],
      "metadata": {
        "id": "eHeQ-NeS8Kx2"
      },
      "execution_count": null,
      "outputs": []
    },
    {
      "cell_type": "code",
      "source": [
        "# Películas que no ha calificado\n",
        "movie_recommendations = user_predictions.T.reset_index()\n",
        "movie_recommendations.columns = ['title', 'rating']\n",
        "top_recommendations = movie_recommendations[~movie_recommendations.title.isin(already_rated + ['userId'])].sort_values(by = 'rating', ascending=False)\n",
        "top_recommendations.head()"
      ],
      "metadata": {
        "id": "p4bR8LrO9eIx"
      },
      "execution_count": null,
      "outputs": []
    },
    {
      "cell_type": "markdown",
      "source": [
        "## 4. Evaluación del modelo"
      ],
      "metadata": {
        "id": "BhGAo79HZ8aS"
      }
    },
    {
      "cell_type": "markdown",
      "source": [
        "MSE"
      ],
      "metadata": {
        "id": "b7Qjn6f8CAuA"
      }
    },
    {
      "cell_type": "code",
      "source": [
        "from sklearn.metrics import *\n",
        "\n",
        "# Filtramos las predicciones reales\n",
        "real_ratings = test_data_matrix.drop(columns = ['userId']).values[test_data_matrix.drop(columns = ['userId']).values.nonzero()]\n",
        "predicted_ratings = predicted_ratings_df.values[test_data_matrix.drop(columns = ['userId']).values.nonzero()]\n",
        "\n",
        "mse = mean_squared_error(real_ratings, predicted_ratings)\n",
        "print(\"MSE en conjunto de entrenamiento:\", mse)\n"
      ],
      "metadata": {
        "id": "u68wht6HK_N6"
      },
      "execution_count": null,
      "outputs": []
    },
    {
      "cell_type": "code",
      "source": [
        "from sklearn.metrics import *\n",
        "\n",
        "# Filtramos las predicciones reales\n",
        "real_ratings = train_data_matrix.drop(columns = ['userId']).values[train_data_matrix.drop(columns = ['userId']).values.nonzero()]\n",
        "predicted_ratings = predicted_ratings_df.values[train_data_matrix.drop(columns = ['userId']).values.nonzero()]\n",
        "\n",
        "mse = mean_squared_error(real_ratings, predicted_ratings)\n",
        "print(\"MSE en conjunto de entrenamiento:\", mse)\n"
      ],
      "metadata": {
        "id": "y4UzjvLAEVeK"
      },
      "execution_count": null,
      "outputs": []
    },
    {
      "cell_type": "markdown",
      "source": [
        "Evaluación del hit Rate"
      ],
      "metadata": {
        "id": "1K_viwhSFFNz"
      }
    },
    {
      "cell_type": "code",
      "source": [
        "# Obtiene las películas vistas por cada usuario en entrenamiento\n",
        "\n",
        "user_seen_movies = {}\n",
        "\n",
        "for col in range(0, len(train_data_matrix)):\n",
        "  user = train_data_matrix[train_data_matrix.index == col]\n",
        "  temp = user.T.reset_index()\n",
        "  temp.columns = ['tittle', 'rating']\n",
        "  user_seen_movies[col] = temp[temp.rating.between(1,5)].tittle.tolist()"
      ],
      "metadata": {
        "id": "rBScMTNDFyv-"
      },
      "execution_count": null,
      "outputs": []
    },
    {
      "cell_type": "code",
      "source": [
        "# Obtiene las películas con las calificaciones predichas más altas para cada usuario\n",
        "\n",
        "predicted_movies = {}\n",
        "\n",
        "for col in predicted_ratings_df.userId.tolist():\n",
        "  user_pred = predicted_ratings_df[predicted_ratings_df.userId == col]\n",
        "  temp = user_pred.T.reset_index()\n",
        "  temp.columns = ['tittle', 'rating']\n",
        "  recs = temp[~temp.tittle.isin(user_seen_movies.get(col, []) + ['userId'])]\n",
        "  top_recs = recs.sort_values(by = 'rating', ascending = False).head(10)\n",
        "  predicted_movies[col] = top_recs.tittle.tolist()\n"
      ],
      "metadata": {
        "id": "tyxntkpdE7b3"
      },
      "execution_count": null,
      "outputs": []
    },
    {
      "cell_type": "code",
      "source": [
        "# Obtiene las películas vistas por cada usuario en test y que haya disfrutado\n",
        "\n",
        "user_seen_movies_test = {}\n",
        "\n",
        "for col in range(0, len(test_data_matrix)):\n",
        "  user = test_data_matrix[test_data_matrix.index == col]\n",
        "  temp = user.T.reset_index()\n",
        "  temp.columns = ['tittle', 'rating']\n",
        "  user_seen_movies_test[col] = temp[temp.rating.between(4,5)].tittle.tolist()"
      ],
      "metadata": {
        "id": "sH-TPxXNLpEJ"
      },
      "execution_count": null,
      "outputs": []
    },
    {
      "cell_type": "code",
      "source": [
        "intersectan = 0\n",
        "\n",
        "for col in user_seen_movies_test.keys():\n",
        "  vistas = set(user_seen_movies_test[col])\n",
        "  recomendadas = set(predicted_movies.get(col, []))\n",
        "  # Verificar si hay intersección\n",
        "  intersectan += not recomendadas.isdisjoint(vistas)\n",
        "\n",
        "print('El hit rate de recomendaciones en usuarios en test es de :', round(intersectan/len(user_seen_movies_test.keys())*100), '%')"
      ],
      "metadata": {
        "id": "MzIGGhPUL3Br"
      },
      "execution_count": null,
      "outputs": []
    },
    {
      "cell_type": "markdown",
      "source": [
        "---\n",
        "## Gracias por completar este laboratorio!"
      ],
      "metadata": {
        "id": "Ou7U5hlgp5nz"
      }
    }
  ]
}