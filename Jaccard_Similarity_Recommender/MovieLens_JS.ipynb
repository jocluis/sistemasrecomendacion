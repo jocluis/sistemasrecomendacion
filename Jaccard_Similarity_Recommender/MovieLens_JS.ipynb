{
  "nbformat": 4,
  "nbformat_minor": 0,
  "metadata": {
    "colab": {
      "provenance": [],
      "machine_shape": "hm",
      "include_colab_link": true
    },
    "kernelspec": {
      "name": "python3",
      "display_name": "Python 3"
    },
    "language_info": {
      "name": "python"
    }
  },
  "cells": [
    {
      "cell_type": "markdown",
      "metadata": {
        "id": "view-in-github",
        "colab_type": "text"
      },
      "source": [
        "<a href=\"https://colab.research.google.com/github/jocluis/sistemasrecomendacion/blob/main/Jaccard_Similarity_Recommender/MovieLens_JS.ipynb\" target=\"_parent\"><img src=\"https://colab.research.google.com/assets/colab-badge.svg\" alt=\"Open In Colab\"/></a>"
      ]
    },
    {
      "cell_type": "markdown",
      "source": [
        "\n",
        "<h1 align=center><font size = 5> Pearson similarity Recommender</font></h1>\n",
        "\n",
        "---"
      ],
      "metadata": {
        "id": "xojo8Uolpezq"
      }
    },
    {
      "cell_type": "markdown",
      "source": [
        "<center>\n",
        "  <img src=\"https://bobliu.io/assets/img/cards.509a5045.jpg\" width=\"800\" height=\"300\">\n",
        "</center>\n"
      ],
      "metadata": {
        "id": "N8k0D4hUpQtd"
      }
    },
    {
      "cell_type": "markdown",
      "source": [
        "## Objetivo de este Notebook\n",
        "\n",
        "1. Cargar y preprocesar un Dataset.\n",
        "2. Realizar un sistema de recomendación basado en Pearson Similarity.\n",
        "3. Comprobar el performance del sistema."
      ],
      "metadata": {
        "id": "8FbV_eL8qMhx"
      }
    },
    {
      "cell_type": "markdown",
      "source": [
        "## Tabla de Contenidos\n",
        "\n",
        "<div class=\"alert alert-block alert-info\" style=\"margin-top: 20px\">\n",
        "\n",
        "<font size = 3>\n",
        "    \n",
        "1. <a href=\"#item31\">Contexto</a>  \n",
        "2. <a href=\"#item32\">Descargar y preparar el Dataset</a>  \n",
        "6. <a href=\"#item34\">Entrenamiento del modelo</a>  \n",
        "6. <a href=\"#item34\">Validación del modelo</a>  \n",
        "\n",
        "</font>\n",
        "</div>"
      ],
      "metadata": {
        "id": "fwc_GHBnvBdo"
      }
    },
    {
      "cell_type": "markdown",
      "source": [
        "## 1. Contexto"
      ],
      "metadata": {
        "id": "1ClPvzs6qk8D"
      }
    },
    {
      "cell_type": "markdown",
      "source": [
        "\n",
        "El conjunto de datos MovieLens es uno de los conjuntos de datos de recomendación más populares y ampliamente utilizados en la investigación de sistemas de recomendación. Fue creado por el GroupLens Research Project en la Universidad de Minnesota para impulsar la investigación en sistemas de recomendación, proporcionando un recurso valioso para la comunidad académica y promoviendo el desarrollo y la comprensión de tecnologías de recomendación personalizada.\n"
      ],
      "metadata": {
        "id": "wOY_1u5Bq6Kz"
      }
    },
    {
      "cell_type": "markdown",
      "source": [
        "<b>Descripción de datos</b>\n",
        "\n",
        "El conjunto de datos MovieLens contiene información sobre:\n",
        "\n",
        "<b>Películas:</b> Detalles sobre las películas, incluyendo su título, género y año de lanzamiento.\n",
        "\n",
        "<b>Usuarios:</b> Perfiles de los usuarios que han calificado y/o etiquetado las películas, incluyendo su ID y otros detalles demográficos opcionales.\n",
        "\n",
        "<b>Calificaciones:</b> Calificaciones numéricas que los usuarios asignan a las películas en una escala de 1 a 5.\n",
        "\n",
        "<b>Etiquetas:</b> Palabras clave o tags proporcionados por los usuarios para describir el contenido o la esencia de las películas.\n",
        "\n",
        "El conjunto de datos es ampliamente utilizado con fines académicos y de investigación, siendo una referencia en el diseño y evaluación de sistemas de recomendación de películas. También es útil para el análisis de tendencias y comportamientos en la visualización de películas y la interacción del usuario con el contenido.\n",
        "\n",
        "<strong>Puede consultar este [link](https://grouplens.org/datasets/movielens/) para leer más sobre la fuente de datos MovieLens proporcionada por GroupLens Research en la Universidad de Minnesota.</strong>"
      ],
      "metadata": {
        "id": "uiYshhXFrHiC"
      }
    },
    {
      "cell_type": "markdown",
      "source": [
        "## 2. Descargar y preparar Dataset"
      ],
      "metadata": {
        "id": "6XVvIx3sr_Q0"
      }
    },
    {
      "cell_type": "code",
      "source": [
        "# Descargar el dataset Movielens\n",
        "#!curl -o dataset.zip \"https://files.grouplens.org/datasets/movielens/ml-latest-small.zip\"\n",
        "#!unzip dataset.zip\n",
        "#!ls -la"
      ],
      "metadata": {
        "id": "rsPg7ZwxfHE4"
      },
      "execution_count": null,
      "outputs": []
    },
    {
      "cell_type": "code",
      "execution_count": null,
      "metadata": {
        "id": "sPs_w8bcU1bm"
      },
      "outputs": [],
      "source": [
        "# Principales librerías\n",
        "import pandas as pd\n",
        "import numpy as np\n",
        "\n",
        "import seaborn as sns\n",
        "import matplotlib.pyplot as plt\n",
        "\n",
        "import warnings\n",
        "warnings.filterwarnings(\"ignore\") # Turn off warnings\n"
      ]
    },
    {
      "cell_type": "code",
      "source": [
        "links   = pd.read_csv(\"ml-latest-small/links.csv\")\n",
        "movies  = pd.read_csv(\"ml-latest-small/movies.csv\")\n",
        "ratings = pd.read_csv(\"ml-latest-small/ratings.csv\")\n",
        "tags    = pd.read_csv(\"ml-latest-small/tags.csv\")\n"
      ],
      "metadata": {
        "id": "w0HCRfqUXp9J"
      },
      "execution_count": null,
      "outputs": []
    },
    {
      "cell_type": "code",
      "source": [
        "links.head()"
      ],
      "metadata": {
        "id": "ofXHH-qra7xZ"
      },
      "execution_count": null,
      "outputs": []
    },
    {
      "cell_type": "code",
      "source": [
        "movies.head()"
      ],
      "metadata": {
        "id": "oV10YeKpbCJ2"
      },
      "execution_count": null,
      "outputs": []
    },
    {
      "cell_type": "code",
      "source": [
        "ratings.head()"
      ],
      "metadata": {
        "id": "HwBd4qRTbLrq"
      },
      "execution_count": null,
      "outputs": []
    },
    {
      "cell_type": "code",
      "source": [
        "tags.head()"
      ],
      "metadata": {
        "id": "qWbXjVaHCZlG"
      },
      "execution_count": null,
      "outputs": []
    },
    {
      "cell_type": "code",
      "source": [
        "print(\"  Movies: {} \\n  Ratings: {}\".format(len(movies), len(ratings)))\n"
      ],
      "metadata": {
        "id": "otyfiUUlbRhj",
        "colab": {
          "base_uri": "https://localhost:8080/"
        },
        "outputId": "3f7a94c3-141f-41af-f347-105cf68f1b3b"
      },
      "execution_count": null,
      "outputs": [
        {
          "output_type": "stream",
          "name": "stdout",
          "text": [
            "  Movies: 9742 \n",
            "  Ratings: 100836\n"
          ]
        }
      ]
    },
    {
      "cell_type": "code",
      "source": [
        "# Fusiona ambos datasets basados en la columna 'movieId'\n",
        "data = pd.merge(ratings, movies, on='movieId')"
      ],
      "metadata": {
        "id": "aC0ZwEh8XE7L"
      },
      "execution_count": null,
      "outputs": []
    },
    {
      "cell_type": "code",
      "source": [
        "movie_titles = data['title'].unique().tolist()\n",
        "movie_ids = data['movieId'].unique().tolist()\n"
      ],
      "metadata": {
        "id": "XYIdWvr7alE8"
      },
      "execution_count": null,
      "outputs": []
    },
    {
      "cell_type": "code",
      "source": [
        "# Convertir el dataset de calificaciones a un formato binario\n",
        "data['binary_rating'] = data['rating'].apply(lambda x: 1 if x >= 4 else 0).astype(int)\n"
      ],
      "metadata": {
        "id": "l9ZW1NbiSI-n"
      },
      "execution_count": null,
      "outputs": []
    },
    {
      "cell_type": "code",
      "source": [
        "# Crear matriz pivotada de usuarios y películas con el formato binario\n",
        "user_movie_binary_rating = data.pivot_table(index='userId', columns='title', values='binary_rating')\n"
      ],
      "metadata": {
        "id": "g8Iium9Mbf9P"
      },
      "execution_count": null,
      "outputs": []
    },
    {
      "cell_type": "code",
      "source": [
        "#500 películas más vistas\n",
        "movies_pop = user_movie_binary_rating.isnull().sum().sort_values()[:500]\n"
      ],
      "metadata": {
        "id": "L3I-6xpQ7C0g"
      },
      "execution_count": null,
      "outputs": []
    },
    {
      "cell_type": "code",
      "source": [
        "user_movie_binary_rating = user_movie_binary_rating[movies_pop.index.tolist()]\n",
        "user_movie_binary_rating = user_movie_binary_rating.reset_index()"
      ],
      "metadata": {
        "id": "6zQDpndy7iAX"
      },
      "execution_count": null,
      "outputs": []
    },
    {
      "cell_type": "code",
      "source": [
        "# Llenar los valores NaN con 0\n",
        "user_movie_binary_rating = user_movie_binary_rating.fillna(0)"
      ],
      "metadata": {
        "id": "z9tUPOlcSWR_"
      },
      "execution_count": null,
      "outputs": []
    },
    {
      "cell_type": "markdown",
      "source": [
        "Muestreo"
      ],
      "metadata": {
        "id": "GgE27Nguqv-_"
      }
    },
    {
      "cell_type": "code",
      "source": [
        "from sklearn.model_selection import train_test_split\n",
        "\n",
        "# Convertir la matriz pivotada en un DataFrame y dividir en train y test\n",
        "train_data, test_data = train_test_split(user_movie_binary_rating, test_size=0.2, random_state=42)\n"
      ],
      "metadata": {
        "id": "HBKbEjiYTh8l"
      },
      "execution_count": null,
      "outputs": []
    },
    {
      "cell_type": "code",
      "source": [
        "# Volver a crear matrices pivotadas para entrenamiento y prueba\n",
        "train_data_matrix = train_data.fillna(0)\n",
        "test_data_matrix = test_data.fillna(0)"
      ],
      "metadata": {
        "id": "RDijWNyaX1sB"
      },
      "execution_count": null,
      "outputs": []
    },
    {
      "cell_type": "code",
      "source": [
        "test_data_matrix.head()"
      ],
      "metadata": {
        "id": "IWmKyU4v-Pwu"
      },
      "execution_count": null,
      "outputs": []
    },
    {
      "cell_type": "markdown",
      "source": [
        "## 3. Jaccard Similarity"
      ],
      "metadata": {
        "id": "GHkA_WGRq7KO"
      }
    },
    {
      "cell_type": "markdown",
      "source": [
        "Aplicaremos el enfoque de similaridad de pearson con enfoque ítem-ítem"
      ],
      "metadata": {
        "id": "8xftMLpaFLJ4"
      }
    },
    {
      "cell_type": "code",
      "source": [
        "data['rating'] = data['rating'].astype(float)"
      ],
      "metadata": {
        "id": "UxjceSTzZsnF"
      },
      "execution_count": null,
      "outputs": []
    },
    {
      "cell_type": "code",
      "source": [
        "from sklearn.metrics.pairwise import pairwise_distances\n",
        "\n",
        "# Convertir DataFrame a matriz NumPy\n",
        "binary_train_data_numpy = train_data_matrix.values\n",
        "\n",
        "# Calcular la matriz de similaridad de Jaccard\n",
        "jaccard_distances = pairwise_distances(binary_train_data_numpy.T, metric='jaccard')  # T para ítem-ítem\n",
        "jaccard_similarity = 1 - jaccard_distances\n",
        "jaccard_df = pd.DataFrame(jaccard_similarity, index=train_data_matrix.columns, columns=train_data_matrix.columns)\n",
        "jaccard_df = jaccard_df.reset_index()"
      ],
      "metadata": {
        "id": "yproYXMtNOeP"
      },
      "execution_count": null,
      "outputs": []
    },
    {
      "cell_type": "code",
      "source": [
        "pd.set_option('display.max_colwidth', None)\n",
        "\n",
        "# Seleccionar un usuario (por ejemplo, el usuario con ID 5)\n",
        "user_id = 83\n",
        "\n",
        "# Películas que el usuario ha visto\n",
        "user_movies = data[data['userId'] == user_id]\n",
        "watched_movies = user_movies[['title', 'genres', 'rating', 'binary_rating']]\n",
        "watched_movies.sort_values(by = 'rating', ascending = False, inplace = True)\n",
        "\n",
        "print(f\"Películas vistas por el usuario {user_id}:\")\n",
        "watched_movies.head(5)"
      ],
      "metadata": {
        "id": "_J6CrYgrcsm9"
      },
      "execution_count": null,
      "outputs": []
    },
    {
      "cell_type": "code",
      "source": [
        "# Porque te gustó \"Truman Show, The (1998)\" ....\n",
        "jaccard_df[['title', 'Truman Show, The (1998)']].sort_values(by = 'Truman Show, The (1998)', ascending = False)[1:].head(3)"
      ],
      "metadata": {
        "id": "p4bR8LrO9eIx"
      },
      "execution_count": null,
      "outputs": []
    },
    {
      "cell_type": "code",
      "source": [
        "# Porque te gustó \"Terminator 2\" ....\n",
        "jaccard_df[['title', 'Inception (2010)']].sort_values(by = 'Inception (2010)', ascending = False)[1:].head(3)"
      ],
      "metadata": {
        "id": "FPqF498sEiJe"
      },
      "execution_count": null,
      "outputs": []
    },
    {
      "cell_type": "code",
      "source": [
        "# Porque te gustó \"Indiana Jones and the Temple of Doom\" ....\n",
        "jaccard_df[['title', 'Dark Knight, The (2008)']].sort_values(by = 'Dark Knight, The (2008)', ascending = False)[1:].head(3)"
      ],
      "metadata": {
        "id": "pNTNp60fE5y-"
      },
      "execution_count": null,
      "outputs": []
    },
    {
      "cell_type": "code",
      "source": [
        "%%capture\n",
        "!pip install adjustText"
      ],
      "metadata": {
        "id": "LSbx0KQcdmQG"
      },
      "execution_count": null,
      "outputs": []
    },
    {
      "cell_type": "markdown",
      "source": [
        "PCA para entender la similaridad"
      ],
      "metadata": {
        "id": "c48W5cZdrGxi"
      }
    },
    {
      "cell_type": "code",
      "source": [
        "# Crear matriz pivotada de usuarios y películas\n",
        "user_movie_rating = data.pivot_table(index='userId', columns='title', values='rating')\n",
        "\n",
        "#30 películas más vistas\n",
        "movies_pop = user_movie_rating.isnull().sum().sort_values()[:50]\n",
        "\n",
        "user_movie_rating = user_movie_rating[movies_pop.index.tolist()]\n",
        "user_movie_rating = user_movie_rating.reset_index()\n",
        "\n",
        "movie_correlation = user_movie_rating.fillna(0).corr()\n",
        "movie_correlation = movie_correlation.reset_index()\n"
      ],
      "metadata": {
        "id": "h_Ke8UUJGUXy"
      },
      "execution_count": null,
      "outputs": []
    },
    {
      "cell_type": "code",
      "source": [
        "from sklearn.decomposition import PCA\n",
        "from adjustText import adjust_text\n",
        "\n",
        "# Aplicar PCA\n",
        "pca = PCA(n_components=2)\n",
        "movie_pca = pca.fit_transform(jaccard_df.drop(columns=['title', 'userId']))\n",
        "\n",
        "# Obtener las n películas más vistas\n",
        "top_30_movies = user_movie_rating.count().sort_values(ascending=False)[:50].index.tolist()\n",
        "top_30_movies = list(set(top_30_movies)-set(['title', 'userId']))\n",
        "\n",
        "# Graficar las n películas más vistas usando PCA\n",
        "plt.figure(figsize=(20, 10))\n",
        "for title in top_30_movies:\n",
        "    idx = movie_correlation[movie_correlation['title'] == title].index[0]\n",
        "    plt.scatter(movie_pca[idx, 0], movie_pca[idx, 1], s=50)\n",
        "    plt.text(movie_pca[idx, 0], movie_pca[idx, 1], title, fontsize=7)\n",
        "\n",
        "# Evitar superposición de etiquetas (si tienes adjustText instalado)\n",
        "#adjust_text(texts, arrowprops=dict(arrowstyle='->', color='red'))\n",
        "\n",
        "plt.xlabel('PCA 1')\n",
        "plt.ylabel('PCA 2')\n",
        "plt.title('Visualización de la Similaridad de las 30 Películas Más Vistas usando PCA')\n",
        "plt.show()"
      ],
      "metadata": {
        "id": "QX8OkFX1aOW8"
      },
      "execution_count": null,
      "outputs": []
    },
    {
      "cell_type": "markdown",
      "source": [
        "## 4. Evaluación del modelo"
      ],
      "metadata": {
        "id": "BhGAo79HZ8aS"
      }
    },
    {
      "cell_type": "markdown",
      "source": [
        "---\n",
        "## Gracias por completar este laboratorio!"
      ],
      "metadata": {
        "id": "Ou7U5hlgp5nz"
      }
    }
  ]
}